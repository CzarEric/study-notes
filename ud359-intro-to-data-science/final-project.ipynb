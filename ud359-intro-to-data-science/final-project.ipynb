{
 "metadata": {
  "name": ""
 },
 "nbformat": 3,
 "nbformat_minor": 0,
 "worksheets": [
  {
   "cells": [
    {
     "cell_type": "markdown",
     "metadata": {},
     "source": [
      "# MTA Subway Network question: how does rain affect ridership?\n",
      "\n",
      "The MTA (Metropolitan Transportation Authority) subway network runs from New York City through Long Island, southeastern New York State, and Connecticut. It serves on average over 8 million people per week [0](http://web.mta.info/mta/network.htm) and has over 8 thousand rail and subway cars[0]. It has been featured in countless Hollywood movies and is a quintessential part of New York culture. New York as a state has fairly interesting weather patterns, it fluxutaes from extremely hot (over ?? celcius) and very cold. \n",
      "\n",
      "In this short article, we're going to do some analysis on how weather affects the MTAs ridership, asking the question: what happens when it rains?"
     ]
    },
    {
     "cell_type": "markdown",
     "metadata": {},
     "source": [
      "## Dataset\n",
      "\n",
      "The dataset includes data from roughly 550 stations across New York. It begins on the 1st of May and ends on the 30th. \n",
      "\n",
      "We could begin our analysis by plotting the determining mean ridership by hour for the month of May for our entire dataset."
     ]
    },
    {
     "cell_type": "code",
     "collapsed": false,
     "input": [
      "import pandas\n",
      "import vincent\n",
      "vincent.core.initialize_notebook()\n",
      "\n",
      "t_data = pandas.read_csv('./turnstile_data_master_with_weather.csv')\n",
      "\n",
      "data = t_data.groupby('Hour')['ENTRIESn_hourly'].mean()\n",
      "line = vincent.Line(data)\n",
      "line.axis_titles(x='Hour', y='Mean entities per hour')\n",
      "vincent.core.initialize_notebook()\n",
      "line.display()"
     ],
     "language": "python",
     "metadata": {},
     "outputs": [
      {
       "javascript": [
        "\n",
        "    require.config({paths: {d3: \"http://d3js.org/d3.v3.min\"}});\n",
        "    require([\"d3\"], function(d3) {\n",
        "      window.d3 = d3;\n",
        "    });\n",
        "    "
       ],
       "metadata": {},
       "output_type": "display_data",
       "text": [
        "<IPython.core.display.Javascript at 0xc7bc68c>"
       ]
      },
      {
       "javascript": [
        "$.getScript(\"http://d3js.org/d3.geo.projection.v0.min.js\", function() {\n",
        "        $.getScript(\"http://wrobstory.github.io/d3-cloud/d3.layout.cloud.js\", function() {\n",
        "            $.getScript(\"http://d3js.org/topojson.v1.min.js\", function() {\n",
        "                $.getScript(\"http://trifacta.github.com/vega/vega.js\", function() {\n",
        "                        $([IPython.events]).trigger(\"vega_loaded.vincent\");\n",
        "                })\n",
        "            })\n",
        "        })\n",
        "    });"
       ],
       "metadata": {},
       "output_type": "display_data",
       "text": [
        "<IPython.core.display.Javascript at 0xac9db4c>"
       ]
      },
      {
       "javascript": [
        "\n",
        "    require.config({paths: {d3: \"http://d3js.org/d3.v3.min\"}});\n",
        "    require([\"d3\"], function(d3) {\n",
        "      window.d3 = d3;\n",
        "    });\n",
        "    "
       ],
       "metadata": {},
       "output_type": "display_data",
       "text": [
        "<IPython.core.display.Javascript at 0xb15c76c>"
       ]
      },
      {
       "javascript": [
        "$.getScript(\"http://d3js.org/d3.geo.projection.v0.min.js\", function() {\n",
        "        $.getScript(\"http://wrobstory.github.io/d3-cloud/d3.layout.cloud.js\", function() {\n",
        "            $.getScript(\"http://d3js.org/topojson.v1.min.js\", function() {\n",
        "                $.getScript(\"http://trifacta.github.com/vega/vega.js\", function() {\n",
        "                        $([IPython.events]).trigger(\"vega_loaded.vincent\");\n",
        "                })\n",
        "            })\n",
        "        })\n",
        "    });"
       ],
       "metadata": {},
       "output_type": "display_data",
       "text": [
        "<IPython.core.display.Javascript at 0xb15c76c>"
       ]
      },
      {
       "html": [
        "<div id=\"vis37454\"></div>"
       ],
       "metadata": {},
       "output_type": "display_data",
       "text": [
        "<IPython.core.display.HTML at 0xc7bba0c>"
       ]
      },
      {
       "javascript": [
        "\n",
        "( function() {\n",
        "  var _do_plot = function() {\n",
        "    if ( typeof vg == 'undefined' ) {\n",
        "      $([IPython.events]).on(\"vega_loaded.vincent\", _do_plot);\n",
        "      return;\n",
        "    }\n",
        "    vg.parse.spec({\"axes\": [{\"scale\": \"x\", \"title\": \"Hour\", \"type\": \"x\"}, {\"scale\": \"y\", \"title\": \"Mean entities per hour\", \"type\": \"y\"}], \"data\": [{\"name\": \"table\", \"values\": [{\"col\": \"ENTRIESn_hourly\", \"idx\": 0, \"val\": 1167.69014693172}, {\"col\": \"ENTRIESn_hourly\", \"idx\": 1, \"val\": 605.0487092060399}, {\"col\": \"ENTRIESn_hourly\", \"idx\": 2, \"val\": 181.87425658453697}, {\"col\": \"ENTRIESn_hourly\", \"idx\": 3, \"val\": 38.81059160305343}, {\"col\": \"ENTRIESn_hourly\", \"idx\": 4, \"val\": 262.3135757314974}, {\"col\": \"ENTRIESn_hourly\", \"idx\": 5, \"val\": 142.58786560309403}, {\"col\": \"ENTRIESn_hourly\", \"idx\": 6, \"val\": 77.35674989420228}, {\"col\": \"ENTRIESn_hourly\", \"idx\": 7, \"val\": 146.38992750858452}, {\"col\": \"ENTRIESn_hourly\", \"idx\": 8, \"val\": 683.9337814289271}, {\"col\": \"ENTRIESn_hourly\", \"idx\": 9, \"val\": 1315.4951745502203}, {\"col\": \"ENTRIESn_hourly\", \"idx\": 10, \"val\": 545.3926202321725}, {\"col\": \"ENTRIESn_hourly\", \"idx\": 11, \"val\": 292.5681303757356}, {\"col\": \"ENTRIESn_hourly\", \"idx\": 12, \"val\": 2453.8420996020222}, {\"col\": \"ENTRIESn_hourly\", \"idx\": 13, \"val\": 1136.6701292426621}, {\"col\": \"ENTRIESn_hourly\", \"idx\": 14, \"val\": 411.9964626812876}, {\"col\": \"ENTRIESn_hourly\", \"idx\": 15, \"val\": 202.9546279491833}, {\"col\": \"ENTRIESn_hourly\", \"idx\": 16, \"val\": 1867.1989229940764}, {\"col\": \"ENTRIESn_hourly\", \"idx\": 17, \"val\": 1552.4699119373777}, {\"col\": \"ENTRIESn_hourly\", \"idx\": 18, \"val\": 729.4803455723542}, {\"col\": \"ENTRIESn_hourly\", \"idx\": 19, \"val\": 386.31744562702454}, {\"col\": \"ENTRIESn_hourly\", \"idx\": 20, \"val\": 2656.422330623306}, {\"col\": \"ENTRIESn_hourly\", \"idx\": 21, \"val\": 1616.2847992116285}, {\"col\": \"ENTRIESn_hourly\", \"idx\": 22, \"val\": 510.3183361629881}, {\"col\": \"ENTRIESn_hourly\", \"idx\": 23, \"val\": 157.98583180987202}]}], \"height\": 500, \"legends\": [], \"marks\": [{\"from\": {\"data\": \"table\", \"transform\": [{\"keys\": [\"data.col\"], \"type\": \"facet\"}]}, \"marks\": [{\"properties\": {\"enter\": {\"stroke\": {\"field\": \"data.col\", \"scale\": \"color\"}, \"strokeWidth\": {\"value\": 2}, \"x\": {\"field\": \"data.idx\", \"scale\": \"x\"}, \"y\": {\"field\": \"data.val\", \"scale\": \"y\"}}}, \"type\": \"line\"}], \"type\": \"group\"}], \"padding\": \"auto\", \"scales\": [{\"domain\": {\"data\": \"table\", \"field\": \"data.idx\"}, \"name\": \"x\", \"range\": \"width\", \"type\": \"linear\"}, {\"domain\": {\"data\": \"table\", \"field\": \"data.val\"}, \"name\": \"y\", \"nice\": true, \"range\": \"height\"}, {\"domain\": {\"data\": \"table\", \"field\": \"data.col\"}, \"name\": \"color\", \"range\": \"category20\", \"type\": \"ordinal\"}], \"width\": 960}, function(chart) {\n",
        "      chart({el: \"#vis37454\"}).update();\n",
        "    });\n",
        "  };\n",
        "  _do_plot();\n",
        "})();\n"
       ],
       "metadata": {},
       "output_type": "display_data",
       "text": [
        "<IPython.core.display.Javascript at 0xc7bb6ec>"
       ]
      }
     ],
     "prompt_number": 2
    },
    {
     "cell_type": "code",
     "collapsed": false,
     "input": [
      "So, we can see from the graph, that the business hour for the station is around ?? o'clock.\n",
      "\n",
      "Now let's create the same line graph, but this time we'll separate wet days with non-wet days. The rainy days will be displayed in ??"
     ],
     "language": "python",
     "metadata": {},
     "outputs": []
    },
    {
     "cell_type": "code",
     "collapsed": false,
     "input": [
      "import pandas\n",
      "import vincent\n",
      "vincent.core.initialize_notebook()\n",
      "\n",
      "t_data = pandas.read_csv('./turnstile_data_master_with_weather.csv')\n",
      "\n",
      "rain = t_data[t_data.rain == 1].groupby('Hour')['ENTRIESn_hourly'].mean()\n",
      "clear = t_data[t_data.rain == 0].groupby('Hour')['ENTRIESn_hourly'].mean()\n",
      "data = pandas.DataFrame({'rain': rain, 'clear': clear, 'Hour': rain.index})\n",
      "\n",
      "line = vincent.Line(data)\n",
      "line.axis_titles(x='Hour', y='Mean entities per hour')\n",
      "vincent.core.initialize_notebook()\n",
      "line.display()"
     ],
     "language": "python",
     "metadata": {},
     "outputs": [
      {
       "javascript": [
        "\n",
        "    require.config({paths: {d3: \"http://d3js.org/d3.v3.min\"}});\n",
        "    require([\"d3\"], function(d3) {\n",
        "      window.d3 = d3;\n",
        "    });\n",
        "    "
       ],
       "metadata": {},
       "output_type": "display_data",
       "text": [
        "<IPython.core.display.Javascript at 0xc7bb0cc>"
       ]
      },
      {
       "javascript": [
        "$.getScript(\"http://d3js.org/d3.geo.projection.v0.min.js\", function() {\n",
        "        $.getScript(\"http://wrobstory.github.io/d3-cloud/d3.layout.cloud.js\", function() {\n",
        "            $.getScript(\"http://d3js.org/topojson.v1.min.js\", function() {\n",
        "                $.getScript(\"http://trifacta.github.com/vega/vega.js\", function() {\n",
        "                        $([IPython.events]).trigger(\"vega_loaded.vincent\");\n",
        "                })\n",
        "            })\n",
        "        })\n",
        "    });"
       ],
       "metadata": {},
       "output_type": "display_data",
       "text": [
        "<IPython.core.display.Javascript at 0xa4d70cc>"
       ]
      },
      {
       "javascript": [
        "\n",
        "    require.config({paths: {d3: \"http://d3js.org/d3.v3.min\"}});\n",
        "    require([\"d3\"], function(d3) {\n",
        "      window.d3 = d3;\n",
        "    });\n",
        "    "
       ],
       "metadata": {},
       "output_type": "display_data",
       "text": [
        "<IPython.core.display.Javascript at 0xb18dcac>"
       ]
      },
      {
       "javascript": [
        "$.getScript(\"http://d3js.org/d3.geo.projection.v0.min.js\", function() {\n",
        "        $.getScript(\"http://wrobstory.github.io/d3-cloud/d3.layout.cloud.js\", function() {\n",
        "            $.getScript(\"http://d3js.org/topojson.v1.min.js\", function() {\n",
        "                $.getScript(\"http://trifacta.github.com/vega/vega.js\", function() {\n",
        "                        $([IPython.events]).trigger(\"vega_loaded.vincent\");\n",
        "                })\n",
        "            })\n",
        "        })\n",
        "    });"
       ],
       "metadata": {},
       "output_type": "display_data",
       "text": [
        "<IPython.core.display.Javascript at 0xb18dcac>"
       ]
      },
      {
       "html": [
        "<div id=\"vis17260\"></div>"
       ],
       "metadata": {},
       "output_type": "display_data",
       "text": [
        "<IPython.core.display.HTML at 0xc9121ec>"
       ]
      },
      {
       "javascript": [
        "\n",
        "( function() {\n",
        "  var _do_plot = function() {\n",
        "    if ( typeof vg == 'undefined' ) {\n",
        "      $([IPython.events]).on(\"vega_loaded.vincent\", _do_plot);\n",
        "      return;\n",
        "    }\n",
        "    vg.parse.spec({\"axes\": [{\"scale\": \"x\", \"title\": \"Hour\", \"type\": \"x\"}, {\"scale\": \"y\", \"title\": \"Mean entities per hour\", \"type\": \"y\"}], \"data\": [{\"name\": \"table\", \"values\": [{\"col\": \"Hour\", \"idx\": 0, \"val\": 0.0}, {\"col\": \"clear\", \"idx\": 0, \"val\": 1174.0183025591189}, {\"col\": \"fog\", \"idx\": 0, \"val\": 1155.0133030499676}, {\"col\": \"Hour\", \"idx\": 1, \"val\": 1.0}, {\"col\": \"clear\", \"idx\": 1, \"val\": 612.0116511924267}, {\"col\": \"fog\", \"idx\": 1, \"val\": 590.9819786686281}, {\"col\": \"Hour\", \"idx\": 2, \"val\": 2.0}, {\"col\": \"clear\", \"idx\": 2, \"val\": 180.2252712188896}, {\"col\": \"fog\", \"idx\": 2, \"val\": 185.15756035578144}, {\"col\": \"Hour\", \"idx\": 3, \"val\": 3.0}, {\"col\": \"clear\", \"idx\": 3, \"val\": 39.55257432922407}, {\"col\": \"fog\", \"idx\": 3, \"val\": 37.383542538354256}, {\"col\": \"Hour\", \"idx\": 4, \"val\": 4.0}, {\"col\": \"clear\", \"idx\": 4, \"val\": 270.396830530401}, {\"col\": \"fog\", \"idx\": 4, \"val\": 246.2509640102828}, {\"col\": \"Hour\", \"idx\": 5, \"val\": 5.0}, {\"col\": \"clear\", \"idx\": 5, \"val\": 144.62511291779583}, {\"col\": \"fog\", \"idx\": 5, \"val\": 138.4709748083242}, {\"col\": \"Hour\", \"idx\": 6, \"val\": 6.0}, {\"col\": \"clear\", \"idx\": 6, \"val\": 77.69240426867546}, {\"col\": \"fog\", \"idx\": 6, \"val\": 76.66233766233766}, {\"col\": \"Hour\", \"idx\": 7, \"val\": 7.0}, {\"col\": \"clear\", \"idx\": 7, \"val\": 145.72885422915417}, {\"col\": \"fog\", \"idx\": 7, \"val\": 147.54507337526206}, {\"col\": \"Hour\", \"idx\": 8, \"val\": 8.0}, {\"col\": \"clear\", \"idx\": 8, \"val\": 670.6717123935667}, {\"col\": \"fog\", \"idx\": 8, \"val\": 709.4303383048381}, {\"col\": \"Hour\", \"idx\": 9, \"val\": 9.0}, {\"col\": \"clear\", \"idx\": 9, \"val\": 1286.7824617573817}, {\"col\": \"fog\", \"idx\": 9, \"val\": 1373.7495488993143}, {\"col\": \"Hour\", \"idx\": 10, \"val\": 10.0}, {\"col\": \"clear\", \"idx\": 10, \"val\": 524.1101376720901}, {\"col\": \"fog\", \"idx\": 10, \"val\": 587.1732186732187}, {\"col\": \"Hour\", \"idx\": 11, \"val\": 11.0}, {\"col\": \"clear\", \"idx\": 11, \"val\": 287.8109243697479}, {\"col\": \"fog\", \"idx\": 11, \"val\": 301.2663252240717}, {\"col\": \"Hour\", \"idx\": 12, \"val\": 12.0}, {\"col\": \"clear\", \"idx\": 12, \"val\": 2428.30349062702}, {\"col\": \"fog\", \"idx\": 12, \"val\": 2504.672885172081}, {\"col\": \"Hour\", \"idx\": 13, \"val\": 13.0}, {\"col\": \"clear\", \"idx\": 13, \"val\": 1134.9875}, {\"col\": \"fog\", \"idx\": 13, \"val\": 1140.0366074664735}, {\"col\": \"Hour\", \"idx\": 14, \"val\": 14.0}, {\"col\": \"clear\", \"idx\": 14, \"val\": 408.78199052132703}, {\"col\": \"fog\", \"idx\": 14, \"val\": 418.5743534482759}, {\"col\": \"Hour\", \"idx\": 15, \"val\": 15.0}, {\"col\": \"clear\", \"idx\": 15, \"val\": 200.96151249155974}, {\"col\": \"fog\", \"idx\": 15, \"val\": 207.03734439834025}, {\"col\": \"Hour\", \"idx\": 16, \"val\": 16.0}, {\"col\": \"clear\", \"idx\": 16, \"val\": 1877.9281320815799}, {\"col\": \"fog\", \"idx\": 16, \"val\": 1845.8648213710976}, {\"col\": \"Hour\", \"idx\": 17, \"val\": 17.0}, {\"col\": \"clear\", \"idx\": 17, \"val\": 1547.053509254169}, {\"col\": \"fog\", \"idx\": 17, \"val\": 1563.3405663847002}, {\"col\": \"Hour\", \"idx\": 18, \"val\": 18.0}, {\"col\": \"clear\", \"idx\": 18, \"val\": 715.9063694267516}, {\"col\": \"fog\", \"idx\": 18, \"val\": 758.0859060402685}, {\"col\": \"Hour\", \"idx\": 19, \"val\": 19.0}, {\"col\": \"clear\", \"idx\": 19, \"val\": 378.1125}, {\"col\": \"fog\", \"idx\": 19, \"val\": 402.70457697642166}, {\"col\": \"Hour\", \"idx\": 20, \"val\": 20.0}, {\"col\": \"clear\", \"idx\": 20, \"val\": 2642.3679060665363}, {\"col\": \"fog\", \"idx\": 20, \"val\": 2684.2858066602003}, {\"col\": \"Hour\", \"idx\": 21, \"val\": 21.0}, {\"col\": \"clear\", \"idx\": 21, \"val\": 1598.7187384728882}, {\"col\": \"fog\", \"idx\": 21, \"val\": 1651.6123887240356}, {\"col\": \"Hour\", \"idx\": 22, \"val\": 22.0}, {\"col\": \"clear\", \"idx\": 22, \"val\": 495.3209096651927}, {\"col\": \"fog\", \"idx\": 22, \"val\": 541.0310478654593}, {\"col\": \"Hour\", \"idx\": 23, \"val\": 23.0}, {\"col\": \"clear\", \"idx\": 23, \"val\": 158.86225895316804}, {\"col\": \"fog\", \"idx\": 23, \"val\": 156.25679347826087}]}], \"height\": 500, \"legends\": [], \"marks\": [{\"from\": {\"data\": \"table\", \"transform\": [{\"keys\": [\"data.col\"], \"type\": \"facet\"}]}, \"marks\": [{\"properties\": {\"enter\": {\"stroke\": {\"field\": \"data.col\", \"scale\": \"color\"}, \"strokeWidth\": {\"value\": 2}, \"x\": {\"field\": \"data.idx\", \"scale\": \"x\"}, \"y\": {\"field\": \"data.val\", \"scale\": \"y\"}}}, \"type\": \"line\"}], \"type\": \"group\"}], \"padding\": \"auto\", \"scales\": [{\"domain\": {\"data\": \"table\", \"field\": \"data.idx\"}, \"name\": \"x\", \"range\": \"width\", \"type\": \"linear\"}, {\"domain\": {\"data\": \"table\", \"field\": \"data.val\"}, \"name\": \"y\", \"nice\": true, \"range\": \"height\"}, {\"domain\": {\"data\": \"table\", \"field\": \"data.col\"}, \"name\": \"color\", \"range\": \"category20\", \"type\": \"ordinal\"}], \"width\": 960}, function(chart) {\n",
        "      chart({el: \"#vis17260\"}).update();\n",
        "    });\n",
        "  };\n",
        "  _do_plot();\n",
        "})();\n"
       ],
       "metadata": {},
       "output_type": "display_data",
       "text": [
        "<IPython.core.display.Javascript at 0xb18dc0c>"
       ]
      }
     ],
     "prompt_number": 3
    },
    {
     "cell_type": "markdown",
     "metadata": {},
     "source": [
      "It appears, based on this chart alone, that there is a slight increase in ridership on wetter days?\n",
      "\n",
      "But it's hard to say. Enter: statistical rigour.\n",
      "\n",
      "Firstly, let's perform some basic statistical comparisons between the two datasets."
     ]
    },
    {
     "cell_type": "markdown",
     "metadata": {},
     "source": []
    },
    {
     "cell_type": "code",
     "collapsed": false,
     "input": [
      "rain_daily_total = t_data[t_data.rain == 1].groupby('DATEn')['ENTRIESn_hourly'].sum()\n",
      "clear_daily_total = t_data[t_data.rain == 0].groupby('DATEn')['ENTRIESn_hourly'].sum()\n",
      "pandas.DataFrame({'rain': rain_daily_total, 'clear': clear_daily_total}).describe()"
     ],
     "language": "python",
     "metadata": {},
     "outputs": [
      {
       "html": [
        "<div style=\"max-height:1000px;max-width:1500px;overflow:auto;\">\n",
        "<table border=\"1\" class=\"dataframe\">\n",
        "  <thead>\n",
        "    <tr style=\"text-align: right;\">\n",
        "      <th></th>\n",
        "      <th>clear</th>\n",
        "      <th>rain</th>\n",
        "    </tr>\n",
        "  </thead>\n",
        "  <tbody>\n",
        "    <tr>\n",
        "      <th>count</th>\n",
        "      <td>      20.000000</td>\n",
        "      <td>      10.000000</td>\n",
        "    </tr>\n",
        "    <tr>\n",
        "      <th>mean</th>\n",
        "      <td> 4788886.000000</td>\n",
        "      <td> 4875460.700000</td>\n",
        "    </tr>\n",
        "    <tr>\n",
        "      <th>std</th>\n",
        "      <td> 1392179.929718</td>\n",
        "      <td> 1336030.366933</td>\n",
        "    </tr>\n",
        "    <tr>\n",
        "      <th>min</th>\n",
        "      <td> 2370432.000000</td>\n",
        "      <td> 2661525.000000</td>\n",
        "    </tr>\n",
        "    <tr>\n",
        "      <th>25%</th>\n",
        "      <td> 3484968.250000</td>\n",
        "      <td> 4064350.000000</td>\n",
        "    </tr>\n",
        "    <tr>\n",
        "      <th>50%</th>\n",
        "      <td> 5666797.500000</td>\n",
        "      <td> 5549290.000000</td>\n",
        "    </tr>\n",
        "    <tr>\n",
        "      <th>75%</th>\n",
        "      <td> 5864204.500000</td>\n",
        "      <td> 5806608.500000</td>\n",
        "    </tr>\n",
        "    <tr>\n",
        "      <th>max</th>\n",
        "      <td> 5965262.000000</td>\n",
        "      <td> 5866031.000000</td>\n",
        "    </tr>\n",
        "  </tbody>\n",
        "</table>\n",
        "</div>"
       ],
       "metadata": {},
       "output_type": "pyout",
       "prompt_number": 3,
       "text": [
        "                clear            rain\n",
        "count       20.000000       10.000000\n",
        "mean   4788886.000000  4875460.700000\n",
        "std    1392179.929718  1336030.366933\n",
        "min    2370432.000000  2661525.000000\n",
        "25%    3484968.250000  4064350.000000\n",
        "50%    5666797.500000  5549290.000000\n",
        "75%    5864204.500000  5806608.500000\n",
        "max    5965262.000000  5866031.000000"
       ]
      }
     ],
     "prompt_number": 3
    },
    {
     "cell_type": "markdown",
     "metadata": {},
     "source": [
      "\n",
      "\n",
      "Interesting. So, let's take a look at our hypothesis.\n",
      "\n",
      "Our null hypothesis:\n",
      "\n",
      "null = rain == fog\n",
      "\n",
      "alternative = rain != fog"
     ]
    },
    {
     "cell_type": "code",
     "collapsed": false,
     "input": [],
     "language": "python",
     "metadata": {},
     "outputs": [
      {
       "metadata": {},
       "output_type": "pyout",
       "prompt_number": 5,
       "text": [
        "5091816.7999999998"
       ]
      }
     ],
     "prompt_number": 5
    },
    {
     "cell_type": "markdown",
     "metadata": {},
     "source": [
      "When we compare the two samples, we note that the variance differs, as does the sample size. Therefore, Welch's t-test may be an appropriate test to determine whether the sample difference is statistically significant.\n",
      "\n",
      "In this example, we're setting a p-critical value of 0.05. We'll perform a two-tailed test, as follows."
     ]
    },
    {
     "cell_type": "code",
     "collapsed": false,
     "input": [
      "import scipy.stats\n",
      "scipy.stats.ttest_ind(clear, fog, equal_var=False)"
     ],
     "language": "python",
     "metadata": {},
     "outputs": [
      {
       "metadata": {},
       "output_type": "pyout",
       "prompt_number": 10,
       "text": [
        "(array(-0.2728896583352139), 0.7861709004186308)"
       ]
      }
     ],
     "prompt_number": 10
    },
    {
     "cell_type": "markdown",
     "metadata": {},
     "source": [
      "Based on this result, we fail to reject the null hypothesis.\n",
      "\n",
      "Part of the issue with this data set is how small the sample size is for the fog data, in particular.\n",
      "\n",
      "We should also perform a MannWhitney test. -- Why?"
     ]
    },
    {
     "cell_type": "markdown",
     "metadata": {},
     "source": [
      "## Predicting Ridership Per Station\n",
      "\n",
      "Using Linear Regression, we can determine a set of theta values that can be used to take the dot product of the following input variables. The model we'll use for this is Gradient Descent.\n",
      "\n",
      "If we take in the following variables: 'rain', 'precipi', 'Hour', 'meantempi', we utilise it to perform Gradient Descent. Setting a learning rate of 0.5 and 50 as the number of iterations, we get the following Theta results for each of the features, respectively: 3.57746093e+00   1.12934079e+01   2.04990276e+02  -2.66371483e+01\n",
      "\n",
      "Why would provide us with an r squared is 0.45804446474. Not exactly ideal but someway toward working through an accuractely prediction."
     ]
    },
    {
     "cell_type": "code",
     "collapsed": false,
     "input": [
      "## MapReduce on larger dataset\n",
      "\n",
      "If we wanted to perform some similar calculations for a larger dataset, we could look at introduction MapReduce to perform some calculcations. \n",
      "\n",
      "Perhaps we wanted to write some MapReduce code to determine top 10 stations for weekly average ridership?\n",
      "\n",
      "We could put the large dataset onto a HDFS, then we might write the following mapper and reducer.\n"
     ],
     "language": "python",
     "metadata": {},
     "outputs": [],
     "prompt_number": 4
    },
    {
     "cell_type": "markdown",
     "metadata": {},
     "source": [
      "### mapper.py"
     ]
    },
    {
     "cell_type": "code",
     "collapsed": false,
     "input": [
      "def mapper():\n",
      "    \"\"\"\n",
      "    For each station, print the station (unit) followed by the ENTRIESn_hourly dataset for the row,\n",
      "    we'll test the validity of the data, by ensuring that the row has the correct number of columns\n",
      "    \"\"\"\n",
      "    for line in sys.stdin:\n",
      "        data = line.split(',')\n",
      "        # Ensure it's not the header row\n",
      "        if data[2] == 'DATEn': continue\n",
      "        # Ensure row has correct number of fields\n",
      "        if len(data) == 21: continue\n",
      "            \n",
      "        unit, entries = data[1], data[6]\n",
      "        print \"{}\\t{}\".format(unit, entries) "
     ],
     "language": "python",
     "metadata": {},
     "outputs": []
    },
    {
     "cell_type": "code",
     "collapsed": false,
     "input": [
      "### reducer.py"
     ],
     "language": "python",
     "metadata": {},
     "outputs": []
    },
    {
     "cell_type": "code",
     "collapsed": false,
     "input": [
      "def reducer():\n",
      "    '''\n",
      "    Given the output of the mapper for this exercise, the reducer should return one row\n",
      "    per unit, along with the total number of ENTRIESn_hourly over the course of may. \n",
      "    \n",
      "    You can assume that the input to the reducer is sorted by UNIT, such that all rows \n",
      "    corresponding to a particular UNIT are group together.\n",
      "\n",
      "    '''\n",
      "    \n",
      "    entries = 0\n",
      "    old_key = None\n",
      "\n",
      "    for line in sys.stdin:\n",
      "        unit, hourly = line.split('\\t')\n",
      "        if old_key and old_key != unit:\n",
      "            print \"{}\\t{}\".format(old_key, entries)\n",
      "            entries = 0\n",
      "        old_key = unit\n",
      "        entries += float(hourly)\n",
      "    print \"{}\\t{}\".format(unit, entries)"
     ],
     "language": "python",
     "metadata": {},
     "outputs": []
    },
    {
     "cell_type": "markdown",
     "metadata": {},
     "source": [
      "Which, using the current dataset, returns the following information.\n",
      "\n",
      "[('R018', 1389878.0), ('R012', 1564752.0), ('R011', 1582914.0), ('R055', 1607534.0), ('R179', 1618261.0), ('R046', 1695150.0), ('R033', 1711663.0), ('R022', 1796932.0), ('R084', 1809423.0), ('R170', 2887918.0)]\n",
      "\n",
      "Where R170 appears to be the busiest station.\n"
     ]
    },
    {
     "cell_type": "markdown",
     "metadata": {},
     "source": [
      "## Conclusion\n",
      "\n",
      "Based on the data collection, we can infer that rain has a slight correlation with higher ridership on the MTA subway system."
     ]
    }
   ],
   "metadata": {}
  }
 ]
}