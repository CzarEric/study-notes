{
 "metadata": {
  "name": ""
 },
 "nbformat": 3,
 "nbformat_minor": 0,
 "worksheets": [
  {
   "cells": [
    {
     "cell_type": "markdown",
     "metadata": {},
     "source": [
      "# MTA Subway Network question: how does fog affect ridership?\n",
      "\n",
      "The MTA (Metropolitan Transportation Authority) subway network runs from New York City through Long Island, southeastern New York State, and Connecticut. It serves on average over 8 million people per week [0](http://web.mta.info/mta/network.htm) and has over 8 thousand rail and subway cars[0].\n",
      "\n",
      "In this article, we're going to look at how fog affects ridership on the MTA network."
     ]
    },
    {
     "cell_type": "markdown",
     "metadata": {},
     "source": [
      "Firstly, let's have a look at mean entries per hour."
     ]
    },
    {
     "cell_type": "code",
     "collapsed": false,
     "input": [
      "import pandas\n",
      "import vincent\n",
      "vincent.core.initialize_notebook()\n",
      "\n",
      "t_data = pandas.read_csv('./turnstile_data_master_with_weather.csv')\n",
      "\n",
      "fog = t_data[t_data.fog == 1].groupby('Hour')['ENTRIESn_hourly'].mean()\n",
      "clear = t_data[t_data.fog == 0].groupby('Hour')['ENTRIESn_hourly'].mean()\n",
      "data = pandas.DataFrame({'fog': fog, 'clear': clear, 'Hour': fog.index})\n",
      "\n",
      "line = vincent.Line(data)\n",
      "line.axis_titles(x='Hour', y='Mean entities per hour')\n",
      "vincent.core.initialize_notebook()\n",
      "line.display()"
     ],
     "language": "python",
     "metadata": {},
     "outputs": [
      {
       "javascript": [
        "\n",
        "    require.config({paths: {d3: \"http://d3js.org/d3.v3.min\"}});\n",
        "    require([\"d3\"], function(d3) {\n",
        "      window.d3 = d3;\n",
        "    });\n",
        "    "
       ],
       "metadata": {},
       "output_type": "display_data",
       "text": [
        "<IPython.core.display.Javascript at 0xd092fcc>"
       ]
      },
      {
       "javascript": [
        "$.getScript(\"http://d3js.org/d3.geo.projection.v0.min.js\", function() {\n",
        "        $.getScript(\"http://wrobstory.github.io/d3-cloud/d3.layout.cloud.js\", function() {\n",
        "            $.getScript(\"http://d3js.org/topojson.v1.min.js\", function() {\n",
        "                $.getScript(\"http://trifacta.github.com/vega/vega.js\", function() {\n",
        "                        $([IPython.events]).trigger(\"vega_loaded.vincent\");\n",
        "                })\n",
        "            })\n",
        "        })\n",
        "    });"
       ],
       "metadata": {},
       "output_type": "display_data",
       "text": [
        "<IPython.core.display.Javascript at 0xb385bac>"
       ]
      },
      {
       "javascript": [
        "\n",
        "    require.config({paths: {d3: \"http://d3js.org/d3.v3.min\"}});\n",
        "    require([\"d3\"], function(d3) {\n",
        "      window.d3 = d3;\n",
        "    });\n",
        "    "
       ],
       "metadata": {},
       "output_type": "display_data",
       "text": [
        "<IPython.core.display.Javascript at 0xbae21ec>"
       ]
      },
      {
       "javascript": [
        "$.getScript(\"http://d3js.org/d3.geo.projection.v0.min.js\", function() {\n",
        "        $.getScript(\"http://wrobstory.github.io/d3-cloud/d3.layout.cloud.js\", function() {\n",
        "            $.getScript(\"http://d3js.org/topojson.v1.min.js\", function() {\n",
        "                $.getScript(\"http://trifacta.github.com/vega/vega.js\", function() {\n",
        "                        $([IPython.events]).trigger(\"vega_loaded.vincent\");\n",
        "                })\n",
        "            })\n",
        "        })\n",
        "    });"
       ],
       "metadata": {},
       "output_type": "display_data",
       "text": [
        "<IPython.core.display.Javascript at 0xbae21ec>"
       ]
      },
      {
       "html": [
        "<div id=\"vis19027\"></div>"
       ],
       "metadata": {},
       "output_type": "display_data",
       "text": [
        "<IPython.core.display.HTML at 0xbae21cc>"
       ]
      },
      {
       "javascript": [
        "\n",
        "( function() {\n",
        "  var _do_plot = function() {\n",
        "    if ( typeof vg == 'undefined' ) {\n",
        "      $([IPython.events]).on(\"vega_loaded.vincent\", _do_plot);\n",
        "      return;\n",
        "    }\n",
        "    vg.parse.spec({\"axes\": [{\"scale\": \"x\", \"title\": \"Hour\", \"type\": \"x\"}, {\"scale\": \"y\", \"title\": \"Mean entities per hour\", \"type\": \"y\"}], \"data\": [{\"name\": \"table\", \"values\": [{\"col\": \"Hour\", \"idx\": 0, \"val\": 0.0}, {\"col\": \"clear\", \"idx\": 0, \"val\": 1178.2103009859886}, {\"col\": \"fog\", \"idx\": 0, \"val\": 1115.3068475452196}, {\"col\": \"Hour\", \"idx\": 1, \"val\": 1.0}, {\"col\": \"clear\", \"idx\": 1, \"val\": 617.0570214013486}, {\"col\": \"fog\", \"idx\": 1, \"val\": 546.1129496402878}, {\"col\": \"Hour\", \"idx\": 2, \"val\": 2.0}, {\"col\": \"clear\", \"idx\": 2, \"val\": 183.4852492370295}, {\"col\": \"fog\", \"idx\": 2, \"val\": 173.71134020618555}, {\"col\": \"Hour\", \"idx\": 3, \"val\": 3.0}, {\"col\": \"clear\", \"idx\": 3, \"val\": 38.994343891402714}, {\"col\": \"fog\", \"idx\": 3, \"val\": 37.82012195121951}, {\"col\": \"Hour\", \"idx\": 4, \"val\": 4.0}, {\"col\": \"clear\", \"idx\": 4, \"val\": 266.69151405726075}, {\"col\": \"fog\", \"idx\": 4, \"val\": 240.29896238651102}, {\"col\": \"Hour\", \"idx\": 5, \"val\": 5.0}, {\"col\": \"clear\", \"idx\": 5, \"val\": 145.10474941724942}, {\"col\": \"fog\", \"idx\": 5, \"val\": 130.3354609929078}, {\"col\": \"Hour\", \"idx\": 6, \"val\": 6.0}, {\"col\": \"clear\", \"idx\": 6, \"val\": 76.72182741116751}, {\"col\": \"fog\", \"idx\": 6, \"val\": 80.53944020356234}, {\"col\": \"Hour\", \"idx\": 7, \"val\": 7.0}, {\"col\": \"clear\", \"idx\": 7, \"val\": 137.30805025593298}, {\"col\": \"fog\", \"idx\": 7, \"val\": 187.739406779661}, {\"col\": \"Hour\", \"idx\": 8, \"val\": 8.0}, {\"col\": \"clear\", \"idx\": 8, \"val\": 660.8139325842697}, {\"col\": \"fog\", \"idx\": 8, \"val\": 797.4915378955114}, {\"col\": \"Hour\", \"idx\": 9, \"val\": 9.0}, {\"col\": \"clear\", \"idx\": 9, \"val\": 1285.9171682430497}, {\"col\": \"fog\", \"idx\": 9, \"val\": 1461.3575971731448}, {\"col\": \"Hour\", \"idx\": 10, \"val\": 10.0}, {\"col\": \"clear\", \"idx\": 10, \"val\": 526.3548546081814}, {\"col\": \"fog\", \"idx\": 10, \"val\": 646.248041775457}, {\"col\": \"Hour\", \"idx\": 11, \"val\": 11.0}, {\"col\": \"clear\", \"idx\": 11, \"val\": 282.7319034852547}, {\"col\": \"fog\", \"idx\": 11, \"val\": 345.8953488372093}, {\"col\": \"Hour\", \"idx\": 12, \"val\": 12.0}, {\"col\": \"clear\", \"idx\": 12, \"val\": 2395.9838150289015}, {\"col\": \"fog\", \"idx\": 12, \"val\": 2751.7433862433863}, {\"col\": \"Hour\", \"idx\": 13, \"val\": 13.0}, {\"col\": \"clear\", \"idx\": 13, \"val\": 1129.033251052708}, {\"col\": \"fog\", \"idx\": 13, \"val\": 1174.4540229885058}, {\"col\": \"Hour\", \"idx\": 14, \"val\": 14.0}, {\"col\": \"clear\", \"idx\": 14, \"val\": 411.2061365600691}, {\"col\": \"fog\", \"idx\": 14, \"val\": 415.56140350877195}, {\"col\": \"Hour\", \"idx\": 15, \"val\": 15.0}, {\"col\": \"clear\", \"idx\": 15, \"val\": 196.03494623655914}, {\"col\": \"fog\", \"idx\": 15, \"val\": 240.36918604651163}, {\"col\": \"Hour\", \"idx\": 16, \"val\": 16.0}, {\"col\": \"clear\", \"idx\": 16, \"val\": 1854.5612021153102}, {\"col\": \"fog\", \"idx\": 16, \"val\": 1931.1546997389034}, {\"col\": \"Hour\", \"idx\": 17, \"val\": 17.0}, {\"col\": \"clear\", \"idx\": 17, \"val\": 1550.626639163106}, {\"col\": \"fog\", \"idx\": 17, \"val\": 1561.4766018718503}, {\"col\": \"Hour\", \"idx\": 18, \"val\": 18.0}, {\"col\": \"clear\", \"idx\": 18, \"val\": 717.2109090909091}, {\"col\": \"fog\", \"idx\": 18, \"val\": 790.0410256410256}, {\"col\": \"Hour\", \"idx\": 19, \"val\": 19.0}, {\"col\": \"clear\", \"idx\": 19, \"val\": 375.1082417582418}, {\"col\": \"fog\", \"idx\": 19, \"val\": 446.14369501466274}, {\"col\": \"Hour\", \"idx\": 20, \"val\": 20.0}, {\"col\": \"clear\", \"idx\": 20, \"val\": 2604.641098730241}, {\"col\": \"fog\", \"idx\": 20, \"val\": 2921.6164565361646}, {\"col\": \"Hour\", \"idx\": 21, \"val\": 21.0}, {\"col\": \"clear\", \"idx\": 21, \"val\": 1597.759080800593}, {\"col\": \"fog\", \"idx\": 21, \"val\": 1707.2942461762564}, {\"col\": \"Hour\", \"idx\": 22, \"val\": 22.0}, {\"col\": \"clear\", \"idx\": 22, \"val\": 512.248066013409}, {\"col\": \"fog\", \"idx\": 22, \"val\": 501.3453237410072}, {\"col\": \"Hour\", \"idx\": 23, \"val\": 23.0}, {\"col\": \"clear\", \"idx\": 23, \"val\": 153.62273476112026}, {\"col\": \"fog\", \"idx\": 23, \"val\": 179.6348773841962}]}], \"height\": 500, \"legends\": [], \"marks\": [{\"from\": {\"data\": \"table\", \"transform\": [{\"keys\": [\"data.col\"], \"type\": \"facet\"}]}, \"marks\": [{\"properties\": {\"enter\": {\"stroke\": {\"field\": \"data.col\", \"scale\": \"color\"}, \"strokeWidth\": {\"value\": 2}, \"x\": {\"field\": \"data.idx\", \"scale\": \"x\"}, \"y\": {\"field\": \"data.val\", \"scale\": \"y\"}}}, \"type\": \"line\"}], \"type\": \"group\"}], \"padding\": \"auto\", \"scales\": [{\"domain\": {\"data\": \"table\", \"field\": \"data.idx\"}, \"name\": \"x\", \"range\": \"width\", \"type\": \"linear\"}, {\"domain\": {\"data\": \"table\", \"field\": \"data.val\"}, \"name\": \"y\", \"nice\": true, \"range\": \"height\"}, {\"domain\": {\"data\": \"table\", \"field\": \"data.col\"}, \"name\": \"color\", \"range\": \"category20\", \"type\": \"ordinal\"}], \"width\": 960}, function(chart) {\n",
        "      chart({el: \"#vis19027\"}).update();\n",
        "    });\n",
        "  };\n",
        "  _do_plot();\n",
        "})();\n"
       ],
       "metadata": {},
       "output_type": "display_data",
       "text": [
        "<IPython.core.display.Javascript at 0xb01aa6c>"
       ]
      }
     ],
     "prompt_number": 40
    },
    {
     "cell_type": "markdown",
     "metadata": {},
     "source": [
      "It appears, based on this chart alone, that there is a slight correalation between hourly ridership. Let's dive a bit deeper.\n",
      "\n",
      "Firstly, let's perform some basic statistical comparisons between the two datasets."
     ]
    },
    {
     "cell_type": "markdown",
     "metadata": {},
     "source": [
      "## Comparing daily ridership"
     ]
    },
    {
     "cell_type": "code",
     "collapsed": false,
     "input": [
      "fog_daily_total = t_data[t_data.fog == 1].groupby('DATEn')['ENTRIESn_hourly'].sum()\n",
      "clear_daily_total = t_data[t_data.fog == 0].groupby('DATEn')['ENTRIESn_hourly'].sum()\n",
      "pandas.DataFrame({'fog': fog_daily_total, 'clear': clear_daily_total}).describe()"
     ],
     "language": "python",
     "metadata": {},
     "outputs": [
      {
       "html": [
        "<div style=\"max-height:1000px;max-width:1500px;overflow:auto;\">\n",
        "<table border=\"1\" class=\"dataframe\">\n",
        "  <thead>\n",
        "    <tr style=\"text-align: right;\">\n",
        "      <th></th>\n",
        "      <th>clear</th>\n",
        "      <th>fog</th>\n",
        "    </tr>\n",
        "  </thead>\n",
        "  <tbody>\n",
        "    <tr>\n",
        "      <th>count</th>\n",
        "      <td>      25.0000</td>\n",
        "      <td>       5.000000</td>\n",
        "    </tr>\n",
        "    <tr>\n",
        "      <th>mean</th>\n",
        "      <td> 4762929.7200</td>\n",
        "      <td> 5091816.800000</td>\n",
        "    </tr>\n",
        "    <tr>\n",
        "      <th>std</th>\n",
        "      <td> 1370910.6489</td>\n",
        "      <td> 1358647.995477</td>\n",
        "    </tr>\n",
        "    <tr>\n",
        "      <th>min</th>\n",
        "      <td> 2370432.0000</td>\n",
        "      <td> 2685406.000000</td>\n",
        "    </tr>\n",
        "    <tr>\n",
        "      <th>25%</th>\n",
        "      <td> 3530107.0000</td>\n",
        "      <td> 5376031.000000</td>\n",
        "    </tr>\n",
        "    <tr>\n",
        "      <th>50%</th>\n",
        "      <td> 5613454.0000</td>\n",
        "      <td> 5720141.000000</td>\n",
        "    </tr>\n",
        "    <tr>\n",
        "      <th>75%</th>\n",
        "      <td> 5862195.0000</td>\n",
        "      <td> 5811475.000000</td>\n",
        "    </tr>\n",
        "    <tr>\n",
        "      <th>max</th>\n",
        "      <td> 5965262.0000</td>\n",
        "      <td> 5866031.000000</td>\n",
        "    </tr>\n",
        "  </tbody>\n",
        "</table>\n",
        "</div>"
       ],
       "metadata": {},
       "output_type": "pyout",
       "prompt_number": 37,
       "text": [
        "              clear             fog\n",
        "count       25.0000        5.000000\n",
        "mean   4762929.7200  5091816.800000\n",
        "std    1370910.6489  1358647.995477\n",
        "min    2370432.0000  2685406.000000\n",
        "25%    3530107.0000  5376031.000000\n",
        "50%    5613454.0000  5720141.000000\n",
        "75%    5862195.0000  5811475.000000\n",
        "max    5965262.0000  5866031.000000"
       ]
      }
     ],
     "prompt_number": 37
    },
    {
     "cell_type": "markdown",
     "metadata": {},
     "source": []
    },
    {
     "cell_type": "markdown",
     "metadata": {},
     "source": []
    },
    {
     "cell_type": "markdown",
     "metadata": {},
     "source": []
    }
   ],
   "metadata": {}
  }
 ]
}